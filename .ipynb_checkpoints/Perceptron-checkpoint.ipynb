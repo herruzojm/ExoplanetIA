{
 "cells": [
  {
   "cell_type": "markdown",
   "metadata": {},
   "source": [
    "# Perceptrón Multicapa\n",
    "\n",
    "Como modelo simple para ir aprendiendo el uso de PyTorch vamos a crear un perceptrón multicapa y entrenarlo con los datos en bruto."
   ]
  },
  {
   "cell_type": "code",
   "execution_count": 1,
   "metadata": {},
   "outputs": [],
   "source": [
    "%load_ext autoreload\n",
    "%autoreload 2\n",
    "\n",
    "%matplotlib inline"
   ]
  },
  {
   "cell_type": "code",
   "execution_count": 2,
   "metadata": {},
   "outputs": [],
   "source": [
    "import pandas as pd\n",
    "import torch \n",
    "import matplotlib.pyplot as plt\n",
    "\n",
    "from utils import *"
   ]
  },
  {
   "cell_type": "code",
   "execution_count": 3,
   "metadata": {},
   "outputs": [],
   "source": [
    "PATH = \"./datos/\"\n",
    "TRAIN_FILE = \"exoTrain.csv\"\n",
    "TEST_FILE = \"exoTest.csv\""
   ]
  },
  {
   "cell_type": "code",
   "execution_count": 4,
   "metadata": {},
   "outputs": [],
   "source": [
    "#leemos los datos de ambos datasets\n",
    "df_train_raw = pd.read_csv(f'{PATH}{TRAIN_FILE}', low_memory=False)\n",
    "#df_test_raw = pd.read_csv(f'{PATH}{TEST_FILE}', low_memory=False)"
   ]
  },
  {
   "cell_type": "code",
   "execution_count": 5,
   "metadata": {},
   "outputs": [],
   "source": [
    "train_x, train_y = generate_x_y_df(df_train_raw)\n",
    "train_y = train_y.add(-1) #pasamos de 1-2 a 0-1"
   ]
  },
  {
   "cell_type": "code",
   "execution_count": 6,
   "metadata": {},
   "outputs": [
    {
     "data": {
      "text/plain": [
       "((5087, 3197), (5087,))"
      ]
     },
     "execution_count": 6,
     "metadata": {},
     "output_type": "execute_result"
    }
   ],
   "source": [
    "train_x.shape, train_y.shape"
   ]
  },
  {
   "cell_type": "code",
   "execution_count": 7,
   "metadata": {},
   "outputs": [],
   "source": [
    "#definicion del modelo\n",
    "class Perceptron(torch.nn.Module):\n",
    "    #definimos la estructura de la red\n",
    "    #capa de entrada x con activacion relu\n",
    "    #capa oculta con activacion relu\n",
    "    #capa de salida con activacion softmax\n",
    "    def __init__(self, n_features, n_hidden):\n",
    "        super(Perceptron, self).__init__()\n",
    "        self.fully_connected_1 = torch.nn.Linear(n_features, n_hidden)\n",
    "        self.fully_connected_2 = torch.nn.Linear(n_hidden, n_hidden)\n",
    "        self.fully_connected_3 = torch.nn.Linear(n_hidden, 2)\n",
    "        self.relu = torch.nn.ReLU()\n",
    "        self.softmax = torch.nn.Softmax(dim = 1)\n",
    "        #self.softmax = torch.nn.Sigmoid()\n",
    "        \n",
    "    #definimos el flujo \n",
    "    def forward(self, x):\n",
    "        x = self.relu(self.fully_connected_1(x))\n",
    "        x = self.relu(self.fully_connected_2(x))\n",
    "        x = self.softmax(self.fully_connected_3(x))\n",
    "        #x = self.fully_connected_3(x)\n",
    "        return x"
   ]
  },
  {
   "cell_type": "code",
   "execution_count": 20,
   "metadata": {},
   "outputs": [],
   "source": [
    "learning_rate = 0.01\n",
    "epochs = 50\n",
    "train_x_tensor = torch.tensor(train_x.values).float()\n",
    "train_y_tensor = torch.tensor(train_y.values)"
   ]
  },
  {
   "cell_type": "code",
   "execution_count": 21,
   "metadata": {},
   "outputs": [],
   "source": [
    "#instanciamos nuestro modelo\n",
    "modelo = Perceptron(n_features = train_x.shape[1], n_hidden = 300) "
   ]
  },
  {
   "cell_type": "code",
   "execution_count": 22,
   "metadata": {},
   "outputs": [],
   "source": [
    "optimizer = torch.optim.SGD(modelo.parameters(), lr = learning_rate)\n",
    "loss_function = torch.nn.CrossEntropyLoss()"
   ]
  },
  {
   "cell_type": "code",
   "execution_count": 23,
   "metadata": {},
   "outputs": [
    {
     "name": "stdout",
     "output_type": "stream",
     "text": [
      "Epoch: 0 loss: 0.7285034656524658\n",
      "Epoch: 10 loss: 0.3257288336753845\n",
      "Epoch: 20 loss: 0.3246678113937378\n",
      "Epoch: 30 loss: 0.32399091124534607\n",
      "Epoch: 40 loss: 0.32351645827293396\n",
      "Epoch: 50 loss: 0.3231947124004364\n"
     ]
    }
   ],
   "source": [
    "for epoch in range(epochs):\n",
    "    #limpiamos los gradientes\n",
    "    optimizer.zero_grad()\n",
    "    #propagamos la entrada hacia delante\n",
    "    predictions = modelo(train_x_tensor)\n",
    "    #calculamos la perdida\n",
    "    loss = loss_function(predictions.squeeze(), train_y_tensor)\n",
    "    #ejecutamos back-propagation\n",
    "    loss.backward()\n",
    "    #actualizamos los pesos\n",
    "    optimizer.step()\n",
    "    #imprimimos\n",
    "    if epoch % 10 == 0:\n",
    "        print('Epoch: {} loss: {}'.format(epoch, loss.item()))\n",
    "        \n",
    "print('Epoch: {} loss: {}'.format(epochs, loss.item()))"
   ]
  },
  {
   "cell_type": "code",
   "execution_count": 26,
   "metadata": {},
   "outputs": [
    {
     "data": {
      "text/plain": [
       "tensor([[1.0000e+00, 2.1440e-43],\n",
       "        [1.0000e+00, 3.5632e-15],\n",
       "        [1.0000e+00, 0.0000e+00],\n",
       "        ...,\n",
       "        [1.0000e+00, 2.4837e-15],\n",
       "        [9.6151e-01, 3.8488e-02],\n",
       "        [1.0000e+00, 1.5333e-13]], grad_fn=<SoftmaxBackward>)"
      ]
     },
     "execution_count": 26,
     "metadata": {},
     "output_type": "execute_result"
    }
   ],
   "source": [
    "predictions"
   ]
  },
  {
   "cell_type": "markdown",
   "metadata": {},
   "source": [
    "Como sospechabamos, sin hacer ningun tratamiento previo a los datos, el modelo solamente devuelve que no existe exoplaneta con certeza absoluta en practicamente todos los casos."
   ]
  }
 ],
 "metadata": {
  "kernelspec": {
   "display_name": "Python 3",
   "language": "python",
   "name": "python3"
  },
  "language_info": {
   "codemirror_mode": {
    "name": "ipython",
    "version": 3
   },
   "file_extension": ".py",
   "mimetype": "text/x-python",
   "name": "python",
   "nbconvert_exporter": "python",
   "pygments_lexer": "ipython3",
   "version": "3.7.6"
  }
 },
 "nbformat": 4,
 "nbformat_minor": 4
}
