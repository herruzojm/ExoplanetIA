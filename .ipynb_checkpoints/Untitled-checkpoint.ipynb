{
 "cells": [
  {
   "cell_type": "code",
   "execution_count": 1,
   "metadata": {},
   "outputs": [],
   "source": [
    "%load_ext autoreload\n",
    "%autoreload 2\n",
    "\n",
    "%matplotlib inline"
   ]
  },
  {
   "cell_type": "code",
   "execution_count": 2,
   "metadata": {},
   "outputs": [],
   "source": [
    "import pandas as pd\n",
    "import torch\n",
    "import matplotlib.pyplot as plt\n",
    "\n",
    "from utils import *\n",
    "PATH = \"./datos/\"\n",
    "TRAIN_FILE = \"exoTrain.csv\"\n",
    "TEST_FILE = \"exoTest.csv\"\n"
   ]
  },
  {
   "cell_type": "code",
   "execution_count": 7,
   "metadata": {},
   "outputs": [],
   "source": [
    "class My_Loss(torch.nn.Module):\n",
    "    \n",
    "    def __init__(self):\n",
    "        super(My_Loss, self).__init__()\n",
    "        \n",
    "    def forward(self, pred, y):\n",
    "        score = calculate_score(torch.stack((y, 1 - y), 1), pred, .5, .5)\n",
    "        return score"
   ]
  },
  {
   "cell_type": "code",
   "execution_count": 3,
   "metadata": {},
   "outputs": [],
   "source": [
    "from sklearn.metrics import confusion_matrix"
   ]
  },
  {
   "cell_type": "code",
   "execution_count": 4,
   "metadata": {},
   "outputs": [],
   "source": [
    "df_train = pd.read_csv(f'{PATH}{TRAIN_FILE}', low_memory=False)\n",
    "df_test = pd.read_csv(f'{PATH}{TEST_FILE}', low_memory=False)\n",
    "df_train.iloc[:, 1:] = reduce_upper_outliers(df_train.iloc[:, 1:], 0.01)\n",
    "df_train = z_score_normalizing(df_train)\n",
    "df_train['LABEL'] = df_train['LABEL'].add(-1)\n",
    "validation_proportion = 0.2\n",
    "df_train, df_validation = split_train_df(df_train, validation_proportion)\n",
    "train_x, train_y = generate_x_y_df(df_train)\n",
    "validation_x, validation_y = generate_x_y_df(df_validation)"
   ]
  },
  {
   "cell_type": "code",
   "execution_count": 5,
   "metadata": {},
   "outputs": [],
   "source": [
    "class Perceptron(torch.nn.Module):\n",
    "    def __init__(self):\n",
    "        super(Perceptron, self).__init__()\n",
    "        self.fc1 = torch.nn.Linear(3197, 1000)\n",
    "        self.fc2 = torch.nn.Linear(1000, 250)\n",
    "        self.fc3 = torch.nn.Linear(250, 20)\n",
    "        self.fc4 = torch.nn.Linear(20, 2)\n",
    "        self.relu = torch.nn.ReLU()\n",
    "        self.logsoftmax = torch.nn.LogSoftmax(dim = 1)\n",
    "        \n",
    "    #definimos el flujo \n",
    "    def forward(self, x):\n",
    "        x = self.relu(self.fc1(x))\n",
    "        x = self.relu(self.fc2(x))\n",
    "        x = self.relu(self.fc3(x))\n",
    "        x = self.logsoftmax(self.fc4(x))\n",
    "        return x"
   ]
  },
  {
   "cell_type": "code",
   "execution_count": 27,
   "metadata": {},
   "outputs": [],
   "source": [
    "epochs = 500\n",
    "learning_rate = 0.03\n",
    "alpha = 0.5\n",
    "beta = 0.5\n",
    "train_x_tensor = torch.tensor(train_x.values).float()\n",
    "train_y_tensor = torch.tensor(train_y.values)\n",
    "validation_x_tensor = torch.tensor(validation_x.values).float()\n",
    "validation_y_tensor = torch.tensor(validation_y.values)"
   ]
  },
  {
   "cell_type": "code",
   "execution_count": 28,
   "metadata": {},
   "outputs": [],
   "source": [
    "modelo = Perceptron()\n",
    "criterion = torch.nn.NLLLoss(torch.tensor([0.05, 0.95]),  reduction = 'mean')\n",
    "optimizer = torch.optim.SGD(modelo.parameters(), lr = learning_rate)"
   ]
  },
  {
   "cell_type": "code",
   "execution_count": 29,
   "metadata": {},
   "outputs": [
    {
     "name": "stdout",
     "output_type": "stream",
     "text": [
      "Epoch: 0 Train loss 0.6333085894584656 Validation loss 0.6226561069488525\n",
      "Epoch: 10 Train loss 0.564684271812439 Validation loss 0.5552399158477783\n",
      "Epoch: 20 Train loss 0.5153745412826538 Validation loss 0.5064888000488281\n",
      "Epoch: 30 Train loss 0.4795147776603699 Validation loss 0.47075244784355164\n",
      "Epoch: 40 Train loss 0.45312175154685974 Validation loss 0.4442601501941681\n",
      "Epoch: 50 Train loss 0.4334540069103241 Validation loss 0.42443352937698364\n",
      "Epoch: 60 Train loss 0.4186832308769226 Validation loss 0.40944159030914307\n",
      "Epoch: 70 Train loss 0.407516211271286 Validation loss 0.3980279862880707\n",
      "Epoch: 80 Train loss 0.3990454375743866 Validation loss 0.3893068730831146\n",
      "Epoch: 90 Train loss 0.39260080456733704 Validation loss 0.3826082646846771\n",
      "Epoch: 100 Train loss 0.38764896988868713 Validation loss 0.3774343729019165\n",
      "Epoch: 110 Train loss 0.38384929299354553 Validation loss 0.37341201305389404\n",
      "Epoch: 120 Train loss 0.38092169165611267 Validation loss 0.37028518319129944\n",
      "Epoch: 130 Train loss 0.37868157029151917 Validation loss 0.3678392767906189\n",
      "Epoch: 140 Train loss 0.37692567706108093 Validation loss 0.36592310667037964\n",
      "Epoch: 150 Train loss 0.375548392534256 Validation loss 0.364414244890213\n",
      "Epoch: 160 Train loss 0.37448933720588684 Validation loss 0.3632226288318634\n",
      "Epoch: 170 Train loss 0.37368470430374146 Validation loss 0.3622772991657257\n",
      "Epoch: 180 Train loss 0.3730252981185913 Validation loss 0.3615262806415558\n",
      "Epoch: 190 Train loss 0.37250006198883057 Validation loss 0.3609267771244049\n",
      "Epoch: 200 Train loss 0.3721146583557129 Validation loss 0.3604453206062317\n",
      "Epoch: 210 Train loss 0.3717901110649109 Validation loss 0.36005786061286926\n",
      "Epoch: 220 Train loss 0.3715120255947113 Validation loss 0.35974371433258057\n",
      "Epoch: 230 Train loss 0.3713129758834839 Validation loss 0.35948920249938965\n",
      "Epoch: 240 Train loss 0.3711354732513428 Validation loss 0.3592793345451355\n",
      "Epoch: 250 Train loss 0.3710125684738159 Validation loss 0.35910704731941223\n",
      "Epoch: 260 Train loss 0.37087202072143555 Validation loss 0.3589630126953125\n",
      "Epoch: 270 Train loss 0.3707827031612396 Validation loss 0.35884416103363037\n",
      "Epoch: 280 Train loss 0.37069064378738403 Validation loss 0.3587417006492615\n",
      "Epoch: 290 Train loss 0.37062665820121765 Validation loss 0.35865655541419983\n",
      "Epoch: 300 Train loss 0.3705587387084961 Validation loss 0.35858187079429626\n",
      "Epoch: 310 Train loss 0.3704780638217926 Validation loss 0.3585185408592224\n",
      "Epoch: 320 Train loss 0.3704274892807007 Validation loss 0.35846084356307983\n",
      "Epoch: 330 Train loss 0.370374858379364 Validation loss 0.35841232538223267\n",
      "Epoch: 340 Train loss 0.370328426361084 Validation loss 0.358368456363678\n",
      "Epoch: 350 Train loss 0.37027212977409363 Validation loss 0.35832908749580383\n",
      "Epoch: 360 Train loss 0.37024062871932983 Validation loss 0.35829275846481323\n",
      "Epoch: 370 Train loss 0.3702039122581482 Validation loss 0.3582604229450226\n",
      "Epoch: 380 Train loss 0.370155394077301 Validation loss 0.35823068022727966\n",
      "Epoch: 390 Train loss 0.37010082602500916 Validation loss 0.35820311307907104\n",
      "Epoch: 400 Train loss 0.37008172273635864 Validation loss 0.35817646980285645\n",
      "Epoch: 410 Train loss 0.37002211809158325 Validation loss 0.3581526577472687\n",
      "Epoch: 420 Train loss 0.36997926235198975 Validation loss 0.3581286668777466\n",
      "Epoch: 430 Train loss 0.3699425458908081 Validation loss 0.35810840129852295\n",
      "Epoch: 440 Train loss 0.36990195512771606 Validation loss 0.3580884039402008\n",
      "Epoch: 450 Train loss 0.3698625862598419 Validation loss 0.35807010531425476\n",
      "Epoch: 460 Train loss 0.36984074115753174 Validation loss 0.3580515682697296\n",
      "Epoch: 470 Train loss 0.3697977662086487 Validation loss 0.35803404450416565\n",
      "Epoch: 480 Train loss 0.36974456906318665 Validation loss 0.35801634192466736\n",
      "Epoch: 490 Train loss 0.3697248101234436 Validation loss 0.3579992353916168\n",
      "Epoch: 499 Train loss 0.3696689307689667 Validation loss 0.3579838275909424\n"
     ]
    }
   ],
   "source": [
    "train_losses, validation_losses, scores = train(modelo, criterion, optimizer, epochs, alpha, beta,\n",
    "                                                train_x_tensor, train_y_tensor, \n",
    "                                                validation_x_tensor, validation_y_tensor)"
   ]
  },
  {
   "cell_type": "code",
   "execution_count": 30,
   "metadata": {},
   "outputs": [
    {
     "data": {
      "text/plain": [
       "<matplotlib.legend.Legend at 0x201542f6788>"
      ]
     },
     "execution_count": 30,
     "metadata": {},
     "output_type": "execute_result"
    },
    {
     "data": {
      "image/png": "[encoded data removed]",
      "text/plain": [
       "<Figure size 432x288 with 1 Axes>"
      ]
     },
     "metadata": {
      "needs_background": "light"
     },
     "output_type": "display_data"
    }
   ],
   "source": [
    "plt.plot(train_losses, label='Training loss')\n",
    "plt.plot(validation_losses, label='Validation loss')\n",
    "plt.plot(scores, label='Score')\n",
    "plt.legend(frameon = False)"
   ]
  },
  {
   "cell_type": "code",
   "execution_count": 31,
   "metadata": {},
   "outputs": [
    {
     "name": "stdout",
     "output_type": "stream",
     "text": [
      "Matriz de confusión:\n",
      "\t\t\tPredicciones\n",
      "Valor real\tNegativos\tPositivos\n",
      "Negativos\t1010\t\t0\n",
      "Positivos\t7\t\t0\n",
      "\n",
      "Acierto: 0.9931170344352722 Sensibilidad: 0.0 Especificidad: 1.0 Score: 0.4965585172176361\n"
     ]
    },
    {
     "data": {
      "text/plain": [
       "tensor(0.4966)"
      ]
     },
     "execution_count": 31,
     "metadata": {},
     "output_type": "execute_result"
    }
   ],
   "source": [
    "predictions = modelo(validation_x_tensor)\n",
    "p = torch.argmax(predictions, 1)\n",
    "calculate_score(validation_y_tensor, p, alpha, beta, True)\n",
    "#print(p[:5], p[45:50])"
   ]
  },
  {
   "cell_type": "code",
   "execution_count": 32,
   "metadata": {},
   "outputs": [
    {
     "data": {
      "text/plain": [
       "tensor([[0.8741, 0.1259],\n",
       "        [0.8783, 0.1217],\n",
       "        [0.8774, 0.1226],\n",
       "        [0.8776, 0.1224],\n",
       "        [0.8768, 0.1232],\n",
       "        [0.8783, 0.1217],\n",
       "        [0.8782, 0.1218],\n",
       "        [0.8783, 0.1217],\n",
       "        [0.8783, 0.1217],\n",
       "        [0.8783, 0.1217],\n",
       "        [0.8782, 0.1218],\n",
       "        [0.8781, 0.1219],\n",
       "        [0.8797, 0.1203],\n",
       "        [0.8783, 0.1217],\n",
       "        [0.8783, 0.1217],\n",
       "        [0.8781, 0.1219],\n",
       "        [0.8780, 0.1220],\n",
       "        [0.8783, 0.1217],\n",
       "        [0.8782, 0.1218],\n",
       "        [0.8782, 0.1218],\n",
       "        [0.8825, 0.1175],\n",
       "        [0.8783, 0.1217],\n",
       "        [0.8782, 0.1218],\n",
       "        [0.8780, 0.1220],\n",
       "        [0.8783, 0.1217],\n",
       "        [0.8783, 0.1217],\n",
       "        [0.8782, 0.1218],\n",
       "        [0.8781, 0.1219],\n",
       "        [0.8783, 0.1217],\n",
       "        [0.8783, 0.1217],\n",
       "        [0.8774, 0.1226],\n",
       "        [0.8783, 0.1217],\n",
       "        [0.8783, 0.1217],\n",
       "        [0.8781, 0.1219],\n",
       "        [0.8782, 0.1218],\n",
       "        [0.8783, 0.1217],\n",
       "        [0.8783, 0.1217],\n",
       "        [0.8784, 0.1216],\n",
       "        [0.8783, 0.1217],\n",
       "        [0.8783, 0.1217],\n",
       "        [0.8783, 0.1217],\n",
       "        [0.8783, 0.1217],\n",
       "        [0.8783, 0.1217],\n",
       "        [0.8782, 0.1218],\n",
       "        [0.8783, 0.1217],\n",
       "        [0.8783, 0.1217],\n",
       "        [0.8775, 0.1225],\n",
       "        [0.8782, 0.1218],\n",
       "        [0.8783, 0.1217],\n",
       "        [0.8783, 0.1217],\n",
       "        [0.8783, 0.1217],\n",
       "        [0.8783, 0.1217],\n",
       "        [0.8771, 0.1229],\n",
       "        [0.8783, 0.1217],\n",
       "        [0.8783, 0.1217],\n",
       "        [0.9934, 0.0066],\n",
       "        [0.8779, 0.1221],\n",
       "        [0.8783, 0.1217],\n",
       "        [0.8783, 0.1217],\n",
       "        [0.8783, 0.1217]], grad_fn=<ExpBackward>)"
      ]
     },
     "execution_count": 32,
     "metadata": {},
     "output_type": "execute_result"
    }
   ],
   "source": [
    "torch.exp(predictions[:60])"
   ]
  },
  {
   "cell_type": "code",
   "execution_count": 33,
   "metadata": {},
   "outputs": [
    {
     "data": {
      "text/plain": [
       "tensor([0, 0, 0, 0, 0, 0, 0, 0, 0, 0, 0, 0, 0, 0, 0, 0, 0, 0, 0, 0, 0, 0, 0, 0,\n",
       "        0, 0, 0, 0, 0, 0, 0, 0, 0, 0, 0, 0, 0, 0, 0, 0, 0, 0, 0, 0, 0, 0, 0, 0,\n",
       "        0, 0, 0, 0, 0, 0, 0, 0, 0, 0, 0, 0])"
      ]
     },
     "execution_count": 33,
     "metadata": {},
     "output_type": "execute_result"
    }
   ],
   "source": [
    "torch.argmax(torch.exp(predictions[:60]), 1)"
   ]
  },
  {
   "cell_type": "code",
   "execution_count": 14,
   "metadata": {},
   "outputs": [
    {
     "data": {
      "text/plain": [
       "tensor(-0.4966)"
      ]
     },
     "execution_count": 14,
     "metadata": {},
     "output_type": "execute_result"
    }
   ],
   "source": [
    "torch.sum( - calculate_score(validation_y_tensor, p, alpha, beta))"
   ]
  },
  {
   "cell_type": "code",
   "execution_count": 15,
   "metadata": {},
   "outputs": [
    {
     "data": {
      "text/plain": [
       "tensor([1, 2])"
      ]
     },
     "execution_count": 15,
     "metadata": {},
     "output_type": "execute_result"
    }
   ],
   "source": [
    "a= torch.tensor([1,2])\n",
    "a"
   ]
  }
 ],
 "metadata": {
  "kernelspec": {
   "display_name": "Python 3",
   "language": "python",
   "name": "python3"
  },
  "language_info": {
   "codemirror_mode": {
    "name": "ipython",
    "version": 3
   },
   "file_extension": ".py",
   "mimetype": "text/x-python",
   "name": "python",
   "nbconvert_exporter": "python",
   "pygments_lexer": "ipython3",
   "version": "3.7.6"
  }
 },
 "nbformat": 4,
 "nbformat_minor": 4
}
