{
 "cells": [
  {
   "cell_type": "markdown",
   "metadata": {},
   "source": [
    "# Perceptrón Multicapa\n",
    "\n",
    "Como modelo simple para ir aprendiendo el uso de PyTorch vamos a crear un perceptrón multicapa y entrenarlo con los datos en bruto."
   ]
  },
  {
   "cell_type": "code",
   "execution_count": 85,
   "metadata": {},
   "outputs": [
    {
     "name": "stdout",
     "output_type": "stream",
     "text": [
      "The autoreload extension is already loaded. To reload it, use:\n",
      "  %reload_ext autoreload\n"
     ]
    }
   ],
   "source": [
    "%load_ext autoreload\n",
    "%autoreload 2\n",
    "\n",
    "%matplotlib inline\n",
    "%reload_ext autoreload\n",
    "\n",
    "import os\n",
    "import pandas as pd\n",
    "import torch\n",
    "import matplotlib.pyplot as plt\n",
    "import repackage\n",
    "repackage.up()\n",
    "\n",
    "from utils import *\n",
    "from fluxdataset import *"
   ]
  },
  {
   "cell_type": "code",
   "execution_count": 2,
   "metadata": {},
   "outputs": [],
   "source": [
    "PATH = \"../datos/\"\n",
    "TRAIN_FILE = \"exoTrain.csv\"\n",
    "TEST_FILE = \"exoTest.csv\""
   ]
  },
  {
   "cell_type": "code",
   "execution_count": 4,
   "metadata": {},
   "outputs": [],
   "source": [
    "#leemos los datos de ambos datasets\n",
    "df_train_raw = pd.read_csv(f'{PATH}{TRAIN_FILE}', low_memory=False)\n",
    "df_test_raw = pd.read_csv(f'{PATH}{TEST_FILE}', low_memory=False)\n",
    "train_x, train_y = generate_x_y_df(df_train_raw)\n",
    "train_y = train_y.add(-1) #pasamos de 1-2 a 0-1"
   ]
  },
  {
   "cell_type": "code",
   "execution_count": 5,
   "metadata": {},
   "outputs": [
    {
     "data": {
      "text/plain": [
       "((5087, 3197), (5087,))"
      ]
     },
     "execution_count": 5,
     "metadata": {},
     "output_type": "execute_result"
    }
   ],
   "source": [
    "train_x.shape, train_y.shape"
   ]
  },
  {
   "cell_type": "code",
   "execution_count": 101,
   "metadata": {},
   "outputs": [],
   "source": [
    "#definicion del modelo\n",
    "class Perceptron(torch.nn.Module):\n",
    "    #definimos la estructura de la red\n",
    "    #capa de entrada x con activacion relu\n",
    "    #capa oculta con activacion relu\n",
    "    #capa de salida con activacion softmax\n",
    "    def __init__(self, n_features, n_hidden):\n",
    "        super(Perceptron, self).__init__()\n",
    "        self.fully_connected_1 = torch.nn.Linear(n_features, n_hidden)\n",
    "        self.fully_connected_2 = torch.nn.Linear(n_hidden, n_hidden)\n",
    "        self.fully_connected_3 = torch.nn.Linear(n_hidden, 2)\n",
    "        self.relu = torch.nn.ReLU()\n",
    "        self.softmax = torch.nn.Softmax(dim = 1)\n",
    "        #self.softmax = torch.nn.Sigmoid()\n",
    "        \n",
    "    #definimos el flujo \n",
    "    def forward(self, x):\n",
    "        x = self.relu(self.fully_connected_1(x))\n",
    "        x = self.relu(self.fully_connected_2(x))\n",
    "        x = self.softmax(self.fully_connected_3(x))\n",
    "        #x = self.fully_connected_3(x)\n",
    "        return x"
   ]
  },
  {
   "cell_type": "code",
   "execution_count": 102,
   "metadata": {},
   "outputs": [],
   "source": [
    "learning_rate = 0.01\n",
    "epochs = 50\n",
    "train_x_tensor = torch.tensor(train_x.values).float()\n",
    "train_y_tensor = torch.tensor(train_y.values)"
   ]
  },
  {
   "cell_type": "code",
   "execution_count": 103,
   "metadata": {},
   "outputs": [],
   "source": [
    "#instanciamos nuestro modelo\n",
    "modelo = Perceptron(n_features = train_x.shape[1], n_hidden = 300) "
   ]
  },
  {
   "cell_type": "code",
   "execution_count": 104,
   "metadata": {},
   "outputs": [],
   "source": [
    "optimizer = torch.optim.SGD(modelo.parameters(), lr = learning_rate)\n",
    "loss_function = torch.nn.CrossEntropyLoss()"
   ]
  },
  {
   "cell_type": "code",
   "execution_count": 105,
   "metadata": {},
   "outputs": [
    {
     "name": "stdout",
     "output_type": "stream",
     "text": [
      "Epoch: 0 loss: 0.6825169920921326\n",
      "Epoch: 10 loss: 0.3248158395290375\n",
      "Epoch: 20 loss: 0.32400718331336975\n",
      "Epoch: 30 loss: 0.32347506284713745\n",
      "Epoch: 40 loss: 0.3230949342250824\n",
      "Epoch: 50 loss: 0.32283318042755127\n"
     ]
    }
   ],
   "source": [
    "for epoch in range(epochs):\n",
    "    #limpiamos los gradientes\n",
    "    optimizer.zero_grad()\n",
    "    #propagamos la entrada hacia delante\n",
    "    predictions = modelo(train_x_tensor)\n",
    "    #calculamos la perdida\n",
    "    loss = loss_function(predictions.squeeze(), train_y_tensor)\n",
    "    #ejecutamos back-propagation\n",
    "    loss.backward()\n",
    "    #actualizamos los pesos\n",
    "    optimizer.step()\n",
    "    #imprimimos\n",
    "    if epoch % 10 == 0:\n",
    "        print('Epoch: {} loss: {}'.format(epoch, loss.item()))\n",
    "        \n",
    "print('Epoch: {} loss: {}'.format(epochs, loss.item()))"
   ]
  },
  {
   "cell_type": "code",
   "execution_count": 106,
   "metadata": {},
   "outputs": [
    {
     "data": {
      "text/plain": [
       "tensor([[1.0000e+00, 1.7377e-37],\n",
       "        [1.0000e+00, 1.4737e-18],\n",
       "        [1.0000e+00, 0.0000e+00],\n",
       "        ...,\n",
       "        [1.0000e+00, 1.1166e-15],\n",
       "        [9.9553e-01, 4.4728e-03],\n",
       "        [1.0000e+00, 1.0477e-15]], grad_fn=<SoftmaxBackward>)"
      ]
     },
     "execution_count": 106,
     "metadata": {},
     "output_type": "execute_result"
    }
   ],
   "source": [
    "predictions"
   ]
  },
  {
   "cell_type": "markdown",
   "metadata": {},
   "source": [
    "Como sospechabamos, sin hacer ningun tratamiento previo a los datos, el modelo solamente devuelve que no existe exoplaneta con certeza absoluta en practicamente todos los casos."
   ]
  },
  {
   "cell_type": "markdown",
   "metadata": {},
   "source": [
    "## Preparando los datos"
   ]
  },
  {
   "cell_type": "markdown",
   "metadata": {},
   "source": [
    "- normalizar\n",
    "- eliminar picos de luz"
   ]
  },
  {
   "cell_type": "code",
   "execution_count": 71,
   "metadata": {},
   "outputs": [],
   "source": [
    "df_train = pd.read_csv(f'{PATH}{TRAIN_FILE}', low_memory=False)\n",
    "df_test = pd.read_csv(f'{PATH}{TEST_FILE}', low_memory=False)"
   ]
  },
  {
   "cell_type": "code",
   "execution_count": 72,
   "metadata": {},
   "outputs": [
    {
     "data": {
      "image/png": "[encoded data removed]",
      "text/plain": [
       "<Figure size 1080x360 with 1 Axes>"
      ]
     },
     "metadata": {
      "needs_background": "light"
     },
     "output_type": "display_data"
    }
   ],
   "source": [
    "show_flux_plot(df_train.drop('LABEL', axis = 1), [7])"
   ]
  },
  {
   "cell_type": "code",
   "execution_count": 73,
   "metadata": {},
   "outputs": [],
   "source": [
    "df_train.iloc[:, 1:] = reduce_upper_outliers(df_train.iloc[:, 1:], 0.01)\n",
    "df_train = z_score_normalizing(df_train)"
   ]
  },
  {
   "cell_type": "markdown",
   "metadata": {},
   "source": [
    "Vemos como queda tras quitar los picos de intensidad"
   ]
  },
  {
   "cell_type": "code",
   "execution_count": 74,
   "metadata": {},
   "outputs": [
    {
     "data": {
      "image/png": "[encoded data removed]",
      "text/plain": [
       "<Figure size 1080x360 with 1 Axes>"
      ]
     },
     "metadata": {
      "needs_background": "light"
     },
     "output_type": "display_data"
    }
   ],
   "source": [
    "show_flux_plot(df_train.drop('LABEL', axis = 1), [7])"
   ]
  },
  {
   "cell_type": "code",
   "execution_count": 75,
   "metadata": {},
   "outputs": [],
   "source": [
    "df_train['LABEL'] = df_train['LABEL'].add(-1)\n",
    "validation_proportion = 0.2\n",
    "df_train, df_validation = split_train_df(df_train, validation_proportion)\n",
    "df_validation = df_validation.sample(frac=1) "
   ]
  },
  {
   "cell_type": "code",
   "execution_count": 76,
   "metadata": {},
   "outputs": [],
   "source": [
    "class Perceptron(torch.nn.Module):\n",
    "    def __init__(self, output = 2):\n",
    "        super(Perceptron, self).__init__()\n",
    "        self.fc1 = torch.nn.Linear(3197, 1000)\n",
    "        self.fc2 = torch.nn.Linear(1000, 250)\n",
    "        self.fc3 = torch.nn.Linear(250, 20)\n",
    "        self.fc4 = torch.nn.Linear(20, output)\n",
    "        self.relu = torch.nn.ReLU()\n",
    "        #self.logsoftmax = torch.nn.LogSoftmax(dim = 1)\n",
    "        \n",
    "    def forward(self, x):\n",
    "        x = self.relu(self.fc1(x))\n",
    "        x = self.relu(self.fc2(x))\n",
    "        x = self.relu(self.fc3(x))\n",
    "        #x = self.logsoftmax(self.fc4(x))\n",
    "        x = self.fc4(x)\n",
    "        return x"
   ]
  },
  {
   "cell_type": "code",
   "execution_count": 77,
   "metadata": {},
   "outputs": [],
   "source": [
    "epochs = 100\n",
    "learning_rate = 0.001\n",
    "alpha = 0.5\n",
    "beta = 0.5\n",
    "device = \"cuda\""
   ]
  },
  {
   "cell_type": "code",
   "execution_count": 97,
   "metadata": {},
   "outputs": [],
   "source": [
    "modelo = Perceptron().to(device)\n",
    "model_name = os.getcwd() + \"\\\\saved_models\\\\perceptron_sgd_cross_01\"\n",
    "weights = df_train['LABEL'].value_counts()\n",
    "weights  = torch.tensor([max(weights)/weights[0], max(weights)/weights[1]])\n",
    "criterion = torch.nn.CrossEntropyLoss(weights).to(device)\n",
    "optimizer = torch.optim.SGD(modelo.parameters(), lr = learning_rate)"
   ]
  },
  {
   "cell_type": "code",
   "execution_count": 98,
   "metadata": {
    "scrolled": false
   },
   "outputs": [
    {
     "name": "stdout",
     "output_type": "stream",
     "text": [
      "using device cuda\n",
      "Score 0.4965585172176361 at epoch 0\n",
      "New model saved\n",
      "Matriz de confusión:\n",
      "\t\t\tPredicciones\n",
      "Valor real\tNegativos\tPositivos\n",
      "Negativos\t1010\t\t0\n",
      "Positivos\t7\t\t0\n",
      "\n",
      "Acierto: 0.9931170344352722 Sensibilidad: 0.0 Especificidad: 1.0 Score: 0.4965585172176361\n",
      "Epoch: 0 Train loss 0.23808056465384414 Validation loss 1.313480019569397\n",
      "Score 0.4965585172176361 at epoch 1\n",
      "Epoch: 1 Train loss 0.06714290942841139 Validation loss 1.7563834190368652\n",
      "Score 0.4965585172176361 at epoch 2\n",
      "Epoch: 2 Train loss 0.049073630293112715 Validation loss 1.9969003200531006\n",
      "Score 0.4965585172176361 at epoch 3\n",
      "Epoch: 3 Train loss 0.04485847923620913 Validation loss 2.135697364807129\n",
      "Score 0.4965585172176361 at epoch 4\n",
      "Epoch: 4 Train loss 0.04348702949153703 Validation loss 2.224290370941162\n",
      "Score 0.4965585172176361 at epoch 5\n",
      "Epoch: 5 Train loss 0.04298268454080718 Validation loss 2.286349296569824\n",
      "Score 0.4965585172176361 at epoch 6\n",
      "Epoch: 6 Train loss 0.04276202553906078 Validation loss 2.3244388103485107\n",
      "Score 0.4965585172176361 at epoch 7\n",
      "Epoch: 7 Train loss 0.042652632504774836 Validation loss 2.3455049991607666\n",
      "Score 0.4965585172176361 at epoch 8\n",
      "Epoch: 8 Train loss 0.04257981267549482 Validation loss 2.3595733642578125\n",
      "Score 0.4965585172176361 at epoch 9\n",
      "Epoch: 9 Train loss 0.04251669788829232 Validation loss 2.366941213607788\n",
      "Score 0.4965585172176361 at epoch 10\n",
      "Epoch: 10 Train loss 0.042450643640185456 Validation loss 2.381624937057495\n",
      "Score 0.4965585172176361 at epoch 11\n",
      "Epoch: 11 Train loss 0.042403285890012174 Validation loss 2.386047840118408\n",
      "Score 0.4965585172176361 at epoch 12\n",
      "Epoch: 12 Train loss 0.042350296247796286 Validation loss 2.3809070587158203\n",
      "Score 0.4965585172176361 at epoch 13\n",
      "Epoch: 13 Train loss 0.04230080002355927 Validation loss 2.384894847869873\n",
      "Score 0.4965585172176361 at epoch 14\n",
      "Epoch: 14 Train loss 0.042240826005724784 Validation loss 2.393299102783203\n",
      "Score 0.4965585172176361 at epoch 15\n",
      "Epoch: 15 Train loss 0.04219765669004923 Validation loss 2.3907127380371094\n",
      "Score 0.4965585172176361 at epoch 16\n",
      "Epoch: 16 Train loss 0.04214570153257478 Validation loss 2.389423131942749\n",
      "Score 0.4965585172176361 at epoch 17\n",
      "Epoch: 17 Train loss 0.04208861577715862 Validation loss 2.3968558311462402\n",
      "Score 0.4965585172176361 at epoch 18\n",
      "Epoch: 18 Train loss 0.04204453771764582 Validation loss 2.3919777870178223\n",
      "Score 0.4965585172176361 at epoch 19\n",
      "Epoch: 19 Train loss 0.04199212036788903 Validation loss 2.387904167175293\n",
      "Score 0.4965585172176361 at epoch 20\n",
      "Epoch: 20 Train loss 0.041944432829756115 Validation loss 2.393364667892456\n",
      "Score 0.4965585172176361 at epoch 21\n",
      "Epoch: 21 Train loss 0.041892254542952964 Validation loss 2.388035297393799\n",
      "Score 0.4965585172176361 at epoch 22\n",
      "Epoch: 22 Train loss 0.0418390357523644 Validation loss 2.4003512859344482\n",
      "Score 0.4965585172176361 at epoch 23\n",
      "Epoch: 23 Train loss 0.04180643574611561 Validation loss 2.3986172676086426\n",
      "Score 0.4965585172176361 at epoch 24\n",
      "Epoch: 24 Train loss 0.041759101208070575 Validation loss 2.4023919105529785\n",
      "Score 0.4965585172176361 at epoch 25\n",
      "Epoch: 25 Train loss 0.04170918624289791 Validation loss 2.3913090229034424\n",
      "Score 0.4965585172176361 at epoch 26\n",
      "Epoch: 26 Train loss 0.04167697854358383 Validation loss 2.3954577445983887\n",
      "Score 0.4965585172176361 at epoch 27\n",
      "Epoch: 27 Train loss 0.04163540097946617 Validation loss 2.39384388923645\n",
      "Score 0.4965585172176361 at epoch 28\n",
      "Epoch: 28 Train loss 0.041584061844050155 Validation loss 2.4065511226654053\n",
      "Score 0.4965585172176361 at epoch 29\n",
      "Epoch: 29 Train loss 0.041542471919657264 Validation loss 2.393322467803955\n",
      "Score 0.4965585172176361 at epoch 30\n",
      "Epoch: 30 Train loss 0.04151582508473783 Validation loss 2.3898844718933105\n",
      "Score 0.4965585172176361 at epoch 31\n",
      "Epoch: 31 Train loss 0.041487831638837624 Validation loss 2.3932924270629883\n",
      "Score 0.4965585172176361 at epoch 32\n",
      "Epoch: 32 Train loss 0.041453110878824896 Validation loss 2.397979259490967\n",
      "Score 0.4965585172176361 at epoch 33\n",
      "Epoch: 33 Train loss 0.0414175952242399 Validation loss 2.397127151489258\n",
      "Score 0.4965585172176361 at epoch 34\n",
      "Epoch: 34 Train loss 0.04137630119956389 Validation loss 2.4099388122558594\n",
      "Score 0.4965585172176361 at epoch 35\n",
      "Epoch: 35 Train loss 0.04135612497971158 Validation loss 2.4108941555023193\n",
      "Score 0.4965585172176361 at epoch 36\n",
      "Epoch: 36 Train loss 0.04132232364331182 Validation loss 2.4065027236938477\n",
      "Score 0.4965585172176361 at epoch 37\n",
      "Epoch: 37 Train loss 0.04129351400918984 Validation loss 2.409313917160034\n",
      "Score 0.4965585172176361 at epoch 38\n",
      "Epoch: 38 Train loss 0.04125962913475693 Validation loss 2.4019455909729004\n",
      "Score 0.4965585172176361 at epoch 39\n",
      "Epoch: 39 Train loss 0.04123592965432994 Validation loss 2.40364670753479\n",
      "Score 0.4965585172176361 at epoch 40\n",
      "Epoch: 40 Train loss 0.04120470001305058 Validation loss 2.4071102142333984\n",
      "Score 0.4965585172176361 at epoch 41\n",
      "Epoch: 41 Train loss 0.041176240039984775 Validation loss 2.410937547683716\n",
      "Score 0.4965585172176361 at epoch 42\n",
      "Epoch: 42 Train loss 0.041142917733813386 Validation loss 2.417524576187134\n",
      "Score 0.4965585172176361 at epoch 43\n",
      "Epoch: 43 Train loss 0.041121976205699275 Validation loss 2.4173474311828613\n",
      "Score 0.4965585172176361 at epoch 44\n",
      "Epoch: 44 Train loss 0.04109329506571814 Validation loss 2.4143993854522705\n",
      "Score 0.4965585172176361 at epoch 45\n",
      "Epoch: 45 Train loss 0.041064682112279045 Validation loss 2.418956995010376\n",
      "Score 0.4965585172176361 at epoch 46\n",
      "Epoch: 46 Train loss 0.04103660152936743 Validation loss 2.4213039875030518\n",
      "Score 0.4965585172176361 at epoch 47\n",
      "Epoch: 47 Train loss 0.04099913317096907 Validation loss 2.4296329021453857\n",
      "Score 0.4965585172176361 at epoch 48\n",
      "Epoch: 48 Train loss 0.04098807913079602 Validation loss 2.4253909587860107\n",
      "Score 0.4965585172176361 at epoch 49\n",
      "Epoch: 49 Train loss 0.04096008208225634 Validation loss 2.4196696281433105\n",
      "Score 0.4965585172176361 at epoch 50\n",
      "Epoch: 50 Train loss 0.04093119606046185 Validation loss 2.4150352478027344\n",
      "Score 0.4965585172176361 at epoch 51\n",
      "Epoch: 51 Train loss 0.0409021022278788 Validation loss 2.408505916595459\n",
      "Score 0.4965585172176361 at epoch 52\n",
      "Epoch: 52 Train loss 0.040877479329448956 Validation loss 2.411581516265869\n",
      "Score 0.4965585172176361 at epoch 53\n",
      "Epoch: 53 Train loss 0.04084567449602507 Validation loss 2.4082489013671875\n",
      "Score 0.4965585172176361 at epoch 54\n",
      "Epoch: 54 Train loss 0.04081796847045861 Validation loss 2.410000801086426\n",
      "Score 0.4965585172176361 at epoch 55\n",
      "Epoch: 55 Train loss 0.04078322953615493 Validation loss 2.4239273071289062\n",
      "Score 0.4965585172176361 at epoch 56\n",
      "Epoch: 56 Train loss 0.040764757368429876 Validation loss 2.416213035583496\n",
      "Score 0.4965585172176361 at epoch 57\n",
      "Epoch: 57 Train loss 0.040730234066193756 Validation loss 2.407580852508545\n",
      "Score 0.4965585172176361 at epoch 58\n",
      "Epoch: 58 Train loss 0.04070140337182497 Validation loss 2.4209282398223877\n",
      "Score 0.4965585172176361 at epoch 59\n",
      "Epoch: 59 Train loss 0.04067521449681875 Validation loss 2.414517402648926\n",
      "Score 0.4965585172176361 at epoch 60\n",
      "Epoch: 60 Train loss 0.04064355895325944 Validation loss 2.4230782985687256\n",
      "Score 0.4965585172176361 at epoch 61\n",
      "Epoch: 61 Train loss 0.040621841246724424 Validation loss 2.4217193126678467\n",
      "Score 0.4965585172176361 at epoch 62\n",
      "Epoch: 62 Train loss 0.040586325079568775 Validation loss 2.413445234298706\n",
      "Score 0.4965585172176361 at epoch 63\n",
      "Epoch: 63 Train loss 0.04054375526653168 Validation loss 2.4266343116760254\n",
      "Score 0.4965585172176361 at epoch 64\n",
      "Epoch: 64 Train loss 0.04052692048379772 Validation loss 2.4243271350860596\n",
      "Score 0.4965585172176361 at epoch 65\n",
      "Epoch: 65 Train loss 0.040489867600527675 Validation loss 2.4210212230682373\n",
      "Score 0.4965585172176361 at epoch 66\n",
      "Epoch: 66 Train loss 0.040454241011007995 Validation loss 2.4154512882232666\n",
      "Score 0.4965585172176361 at epoch 67\n",
      "Epoch: 67 Train loss 0.04042861669596642 Validation loss 2.415952682495117\n",
      "Score 0.4965585172176361 at epoch 68\n",
      "Epoch: 68 Train loss 0.04038292424391763 Validation loss 2.4266276359558105\n",
      "Score 0.4965585172176361 at epoch 69\n",
      "Epoch: 69 Train loss 0.04035128759224819 Validation loss 2.4339089393615723\n",
      "Score 0.4965585172176361 at epoch 70\n",
      "Epoch: 70 Train loss 0.040323682704194466 Validation loss 2.4212934970855713\n"
     ]
    },
    {
     "name": "stdout",
     "output_type": "stream",
     "text": [
      "Score 0.4965585172176361 at epoch 71\n",
      "Epoch: 71 Train loss 0.04028667006504331 Validation loss 2.4163272380828857\n",
      "Score 0.4965585172176361 at epoch 72\n",
      "Epoch: 72 Train loss 0.04024967066485993 Validation loss 2.419555187225342\n",
      "Score 0.4965585172176361 at epoch 73\n",
      "Epoch: 73 Train loss 0.04020791551697752 Validation loss 2.419797658920288\n",
      "Score 0.4965585172176361 at epoch 74\n",
      "Epoch: 74 Train loss 0.04017635897277907 Validation loss 2.4190008640289307\n",
      "Score 0.4965585172176361 at epoch 75\n",
      "Epoch: 75 Train loss 0.04011540465624385 Validation loss 2.403761386871338\n",
      "Score 0.4965585172176361 at epoch 76\n",
      "Epoch: 76 Train loss 0.04008960636007698 Validation loss 2.423367738723755\n",
      "Score 0.4965585172176361 at epoch 77\n",
      "Epoch: 77 Train loss 0.04005344318230556 Validation loss 2.424776554107666\n",
      "Score 0.4965585172176361 at epoch 78\n",
      "Epoch: 78 Train loss 0.040012746829658524 Validation loss 2.4283273220062256\n",
      "Score 0.4965585172176361 at epoch 79\n",
      "Epoch: 79 Train loss 0.0399624244293944 Validation loss 2.4385392665863037\n",
      "Score 0.4965585172176361 at epoch 80\n",
      "Epoch: 80 Train loss 0.03992137490092097 Validation loss 2.439404010772705\n",
      "Score 0.4965585172176361 at epoch 81\n",
      "Epoch: 81 Train loss 0.039873376993933826 Validation loss 2.446960687637329\n",
      "Score 0.4965585172176361 at epoch 82\n",
      "Epoch: 82 Train loss 0.03984242077248688 Validation loss 2.428361415863037\n",
      "Score 0.4965585172176361 at epoch 83\n",
      "Epoch: 83 Train loss 0.03978823276936862 Validation loss 2.4361631870269775\n",
      "Score 0.4965585172176361 at epoch 84\n",
      "Epoch: 84 Train loss 0.039716193511743436 Validation loss 2.4074764251708984\n",
      "Score 0.4965585172176361 at epoch 85\n",
      "Epoch: 85 Train loss 0.03971010607642096 Validation loss 2.4157214164733887\n",
      "Score 0.4965585172176361 at epoch 86\n",
      "Epoch: 86 Train loss 0.039658848923020046 Validation loss 2.4243788719177246\n",
      "Score 0.4965585172176361 at epoch 87\n",
      "Epoch: 87 Train loss 0.03961273805222289 Validation loss 2.431140899658203\n",
      "Score 0.4965585172176361 at epoch 88\n",
      "Epoch: 88 Train loss 0.03955406076492197 Validation loss 2.4149656295776367\n",
      "Score 0.4965585172176361 at epoch 89\n",
      "Epoch: 89 Train loss 0.039489898195430743 Validation loss 2.440521717071533\n",
      "Score 0.4965585172176361 at epoch 90\n",
      "Epoch: 90 Train loss 0.039456148859323976 Validation loss 2.418473720550537\n",
      "Score 0.4965585172176361 at epoch 91\n",
      "Epoch: 91 Train loss 0.0394066655958021 Validation loss 2.4094183444976807\n",
      "Score 0.4965585172176361 at epoch 92\n",
      "Epoch: 92 Train loss 0.0393520657641296 Validation loss 2.4008736610412598\n",
      "Score 0.4965585172176361 at epoch 93\n",
      "Epoch: 93 Train loss 0.039307735549144136 Validation loss 2.424065589904785\n",
      "Score 0.4965585172176361 at epoch 94\n",
      "Epoch: 94 Train loss 0.039243473863133045 Validation loss 2.43249773979187\n",
      "Score 0.4965585172176361 at epoch 95\n",
      "Epoch: 95 Train loss 0.03917006412360826 Validation loss 2.450667381286621\n",
      "Score 0.4965585172176361 at epoch 96\n",
      "Epoch: 96 Train loss 0.039135380708028994 Validation loss 2.430803060531616\n",
      "Score 0.4965585172176361 at epoch 97\n",
      "Epoch: 97 Train loss 0.039079909506242454 Validation loss 2.420243501663208\n",
      "Score 0.4965585172176361 at epoch 98\n",
      "Epoch: 98 Train loss 0.03903058745351412 Validation loss 2.4199841022491455\n",
      "Score 0.4965585172176361 at epoch 99\n",
      "Epoch: 99 Train loss 0.038977754599339255 Validation loss 2.4312045574188232\n",
      "Epoch: 99 Train loss 0.038977754599339255 Validation loss 2.4312045574188232\n",
      "execution time 1719.2964934000047\n"
     ]
    }
   ],
   "source": [
    "train_losses, validation_losses, scores = train(modelo, model_name, criterion, optimizer, epochs, alpha, beta,\n",
    "                                                df_train, df_validation, device)"
   ]
  },
  {
   "cell_type": "code",
   "execution_count": 99,
   "metadata": {},
   "outputs": [
    {
     "data": {
      "text/plain": [
       "<matplotlib.legend.Legend at 0x17f260af808>"
      ]
     },
     "execution_count": 99,
     "metadata": {},
     "output_type": "execute_result"
    },
    {
     "data": {
      "image/png": "[encoded data removed]",
      "text/plain": [
       "<Figure size 432x288 with 1 Axes>"
      ]
     },
     "metadata": {
      "needs_background": "light"
     },
     "output_type": "display_data"
    }
   ],
   "source": [
    "plt.plot(train_losses, label = 'Training loss')\n",
    "plt.plot(validation_losses, label = 'Validation loss')\n",
    "plt.plot(scores, label = 'Score')\n",
    "plt.legend(frameon = False)"
   ]
  },
  {
   "cell_type": "code",
   "execution_count": 100,
   "metadata": {},
   "outputs": [],
   "source": [
    "modelo = Perceptron().to(device)\n",
    "model_name = os.getcwd() + \"\\\\saved_models\\\\perceptron_adam_cross_01\"\n",
    "weights = df_train['LABEL'].value_counts()\n",
    "weights  = torch.tensor([max(weights)/weights[0], max(weights)/weights[1]])\n",
    "criterion = torch.nn.CrossEntropyLoss(weights).to(device)\n",
    "optimizer = torch.optim.Adam(modelo.parameters(), lr = learning_rate)"
   ]
  },
  {
   "cell_type": "code",
   "execution_count": 101,
   "metadata": {
    "scrolled": false
   },
   "outputs": [
    {
     "name": "stdout",
     "output_type": "stream",
     "text": [
      "using device cuda\n",
      "Score 0.4965585172176361 at epoch 0\n",
      "New model saved\n",
      "Matriz de confusión:\n",
      "\t\t\tPredicciones\n",
      "Valor real\tNegativos\tPositivos\n",
      "Negativos\t1010\t\t0\n",
      "Positivos\t7\t\t0\n",
      "\n",
      "Acierto: 0.9931170344352722 Sensibilidad: 0.0 Especificidad: 1.0 Score: 0.4965585172176361\n",
      "Epoch: 0 Train loss 0.11674166564493273 Validation loss 3.930325508117676\n",
      "Score 0.4965585172176361 at epoch 1\n",
      "Epoch: 1 Train loss 0.35245116268094695 Validation loss 4.130925178527832\n",
      "Score 0.492633193731308 at epoch 2\n",
      "Epoch: 2 Train loss 0.07715182729083725 Validation loss 1.6474387645721436\n",
      "Score 0.4965585172176361 at epoch 3\n",
      "Epoch: 3 Train loss 0.06477184717426722 Validation loss 4.621953010559082\n",
      "Score 0.4965585172176361 at epoch 4\n",
      "Epoch: 4 Train loss 0.06880403998735789 Validation loss 2.1808412075042725\n",
      "Score 0.4965585172176361 at epoch 5\n",
      "Epoch: 5 Train loss 0.058921636703266264 Validation loss 4.23397159576416\n",
      "Score 0.4965585172176361 at epoch 6\n",
      "Epoch: 6 Train loss 0.06707070248718637 Validation loss 5.720606327056885\n",
      "Score 0.4965585172176361 at epoch 7\n",
      "Epoch: 7 Train loss 0.06747038529897498 Validation loss 4.01365327835083\n",
      "Score 0.4965585172176361 at epoch 8\n",
      "Epoch: 8 Train loss 0.08959971736631464 Validation loss 6.203205108642578\n",
      "Score 0.4965585172176361 at epoch 9\n",
      "Epoch: 9 Train loss 0.0638143743871178 Validation loss 4.4433770179748535\n",
      "Score 0.4965585172176361 at epoch 10\n",
      "Epoch: 10 Train loss 0.05734777239675311 Validation loss 4.702798366546631\n",
      "Score 0.4965585172176361 at epoch 11\n",
      "Epoch: 11 Train loss 0.06824097782739551 Validation loss 2.2860031127929688\n",
      "Score 0.4965585172176361 at epoch 12\n",
      "Epoch: 12 Train loss 0.06293774669674164 Validation loss 4.715300559997559\n",
      "Score 0.4965585172176361 at epoch 13\n",
      "Epoch: 13 Train loss 0.07243964799499043 Validation loss 1.2482187747955322\n",
      "Score 0.4965585172176361 at epoch 14\n",
      "Epoch: 14 Train loss 0.057661528522903856 Validation loss 2.0128393173217773\n",
      "Score 0.4965585172176361 at epoch 15\n",
      "Epoch: 15 Train loss 0.062179315646684725 Validation loss 2.2015531063079834\n",
      "Score 0.4965585172176361 at epoch 16\n",
      "Epoch: 16 Train loss 0.04376309228470636 Validation loss 2.303037643432617\n",
      "Score 0.4965585172176361 at epoch 17\n",
      "Epoch: 17 Train loss 0.06492663279212371 Validation loss 2.353573799133301\n",
      "Score 0.4965585172176361 at epoch 18\n",
      "Epoch: 18 Train loss 0.043449905346301027 Validation loss 2.366619348526001\n",
      "Score 0.4965585172176361 at epoch 19\n",
      "Epoch: 19 Train loss 0.04344519315246282 Validation loss 2.376589775085449\n",
      "Score 0.4965585172176361 at epoch 20\n",
      "Epoch: 20 Train loss 0.054133335671202265 Validation loss 2.3785927295684814\n",
      "Score 0.4965585172176361 at epoch 21\n",
      "Epoch: 21 Train loss 0.043328116918371705 Validation loss 2.383892774581909\n",
      "Score 0.4965585172176361 at epoch 22\n",
      "Epoch: 22 Train loss 0.05092636648501459 Validation loss 2.3727993965148926\n",
      "Score 0.4965585172176361 at epoch 23\n",
      "Epoch: 23 Train loss 0.060184122186328036 Validation loss 4.292789459228516\n",
      "Score 0.4965585172176361 at epoch 24\n",
      "Epoch: 24 Train loss 0.04610854483939506 Validation loss 4.624305725097656\n",
      "Score 0.4965585172176361 at epoch 25\n",
      "Epoch: 25 Train loss 0.04620464720948615 Validation loss 2.3371071815490723\n",
      "Score 0.4965585172176361 at epoch 26\n",
      "Epoch: 26 Train loss 0.060107676461522055 Validation loss 2.3664987087249756\n",
      "Score 0.4965585172176361 at epoch 27\n",
      "Epoch: 27 Train loss 0.05213227693806116 Validation loss 2.398568630218506\n",
      "Score 0.4965585172176361 at epoch 28\n",
      "Epoch: 28 Train loss 0.043453161253683106 Validation loss 2.3932483196258545\n",
      "Score 0.4965585172176361 at epoch 29\n",
      "Epoch: 29 Train loss 0.11443259136096852 Validation loss 5.0037150382995605\n",
      "Score 0.4965585172176361 at epoch 30\n",
      "Epoch: 30 Train loss 0.043207999119301684 Validation loss 5.034292221069336\n",
      "Score 0.4965585172176361 at epoch 31\n",
      "Epoch: 31 Train loss 0.043189167976379395 Validation loss 5.084194660186768\n",
      "Score 0.4965585172176361 at epoch 32\n",
      "Epoch: 32 Train loss 0.08711611474761213 Validation loss 2.3711791038513184\n",
      "Score 0.4965585172176361 at epoch 33\n",
      "Epoch: 33 Train loss 0.043223787408496 Validation loss 8.412931442260742\n",
      "Score 0.4965585172176361 at epoch 34\n",
      "Epoch: 34 Train loss 0.08062662867421894 Validation loss 4.337215423583984\n",
      "Score 0.4965585172176361 at epoch 35\n",
      "Epoch: 35 Train loss 0.05454928546924263 Validation loss 2.3413350582122803\n",
      "Score 0.4965585172176361 at epoch 36\n",
      "Epoch: 36 Train loss 0.04330370367598475 Validation loss 2.3606250286102295\n",
      "Score 0.4965585172176361 at epoch 37\n",
      "Epoch: 37 Train loss 0.04624375664338433 Validation loss 2.362417459487915\n",
      "Score 0.4965585172176361 at epoch 38\n",
      "Epoch: 38 Train loss 0.07051272398130899 Validation loss 2.353161334991455\n",
      "Score 0.4965585172176361 at epoch 39\n",
      "Epoch: 39 Train loss 0.043354980072752555 Validation loss 2.3793582916259766\n",
      "Score 0.4965585172176361 at epoch 40\n",
      "Epoch: 40 Train loss 0.05585858564119081 Validation loss 2.398348569869995\n",
      "Score 0.4965585172176361 at epoch 41\n",
      "Epoch: 41 Train loss 0.043588729982586984 Validation loss 2.3884382247924805\n",
      "Score 0.4965585172176361 at epoch 42\n",
      "Epoch: 42 Train loss 0.04354261789626513 Validation loss 2.389204978942871\n",
      "Score 0.4965585172176361 at epoch 43\n",
      "Epoch: 43 Train loss 0.07796084833965254 Validation loss 2.3940978050231934\n",
      "Score 0.4965585172176361 at epoch 44\n",
      "Epoch: 44 Train loss 0.04359281631301017 Validation loss 2.4050307273864746\n",
      "Score 0.4965585172176361 at epoch 45\n",
      "Epoch: 45 Train loss 0.04354118351854329 Validation loss 2.416347026824951\n",
      "Score 0.4965585172176361 at epoch 46\n",
      "Epoch: 46 Train loss 0.04349796824724727 Validation loss 2.4110469818115234\n",
      "Score 0.4965585172176361 at epoch 47\n",
      "Epoch: 47 Train loss 0.08084073793097268 Validation loss 2.3252134323120117\n",
      "Score 0.4965585172176361 at epoch 48\n",
      "Epoch: 48 Train loss 0.04333430121513198 Validation loss 2.359360933303833\n",
      "Score 0.4965585172176361 at epoch 49\n",
      "Epoch: 49 Train loss 0.04329673499967308 Validation loss 2.4715356826782227\n",
      "Score 0.4965585172176361 at epoch 50\n",
      "Epoch: 50 Train loss 0.06800616426022692 Validation loss 3.19655179977417\n",
      "Score 0.4965585172176361 at epoch 51\n",
      "Epoch: 51 Train loss 0.047418348267857506 Validation loss 3.0227198600769043\n",
      "Score 0.4965585172176361 at epoch 52\n",
      "Epoch: 52 Train loss 0.04891704306262717 Validation loss 2.3846776485443115\n",
      "Score 0.4965585172176361 at epoch 53\n",
      "Epoch: 53 Train loss 0.05698203542601564 Validation loss 2.3650014400482178\n",
      "Score 0.4965585172176361 at epoch 54\n",
      "Epoch: 54 Train loss 0.0432663276095941 Validation loss 2.3692069053649902\n",
      "Score 0.4965585172176361 at epoch 55\n",
      "Epoch: 55 Train loss 0.04591372077529495 Validation loss 2.396934747695923\n",
      "Score 0.4965585172176361 at epoch 56\n",
      "Epoch: 56 Train loss 0.04332500078168489 Validation loss 2.3848347663879395\n",
      "Score 0.4965585172176361 at epoch 57\n",
      "Epoch: 57 Train loss 0.11322193532376676 Validation loss 5.739566326141357\n",
      "Score 0.4965585172176361 at epoch 58\n",
      "Epoch: 58 Train loss 0.061505828969894524 Validation loss 2.3079450130462646\n",
      "Score 0.4965585172176361 at epoch 59\n",
      "Epoch: 59 Train loss 0.04324486238071901 Validation loss 2.3443615436553955\n",
      "Score 0.4965585172176361 at epoch 60\n",
      "Epoch: 60 Train loss 0.05709621871132815 Validation loss 2.345064878463745\n",
      "Score 0.4965585172176361 at epoch 61\n",
      "Epoch: 61 Train loss 0.04323955144577589 Validation loss 2.3518564701080322\n",
      "Score 0.4965585172176361 at epoch 62\n",
      "Epoch: 62 Train loss 0.11630492714171914 Validation loss 40.584686279296875\n",
      "Score 0.4965585172176361 at epoch 63\n",
      "Epoch: 63 Train loss 0.09529680549659073 Validation loss 3.1291863918304443\n",
      "Score 0.4965585172176361 at epoch 64\n",
      "Epoch: 64 Train loss 0.04670604944814921 Validation loss 2.351311206817627\n",
      "Score 0.4965585172176361 at epoch 65\n",
      "Epoch: 65 Train loss 0.046524903288051596 Validation loss 2.361699104309082\n",
      "Score 0.4965585172176361 at epoch 66\n",
      "Epoch: 66 Train loss 0.04769584265622226 Validation loss 2.358694314956665\n",
      "Score 0.4965585172176361 at epoch 67\n",
      "Epoch: 67 Train loss 0.04450942228115747 Validation loss 2.3559956550598145\n",
      "Score 0.4965585172176361 at epoch 68\n",
      "Epoch: 68 Train loss 0.04314719318464874 Validation loss 4.009485244750977\n",
      "Score 0.4965585172176361 at epoch 69\n",
      "Epoch: 69 Train loss 0.057202001402946304 Validation loss 2.348287582397461\n",
      "Score 0.4965585172176361 at epoch 70\n",
      "Epoch: 70 Train loss 0.043185303662274334 Validation loss 3.677009105682373\n"
     ]
    },
    {
     "name": "stdout",
     "output_type": "stream",
     "text": [
      "Score 0.4965585172176361 at epoch 71\n",
      "Epoch: 71 Train loss 0.05759750537263088 Validation loss 2.5529050827026367\n",
      "Score 0.4965585172176361 at epoch 72\n",
      "Epoch: 72 Train loss 3.092251347499632 Validation loss 2.3615081310272217\n",
      "Score 0.4965585172176361 at epoch 73\n",
      "Epoch: 73 Train loss 0.043488384289003416 Validation loss 2.3672590255737305\n",
      "Score 0.4965585172176361 at epoch 74\n",
      "Epoch: 74 Train loss 0.04512618015673588 Validation loss 2.2699079513549805\n",
      "Score 0.4965585172176361 at epoch 75\n",
      "Epoch: 75 Train loss 0.04342133869995942 Validation loss 2.3227174282073975\n",
      "Score 0.4965585172176361 at epoch 76\n",
      "Epoch: 76 Train loss 0.04921992604211156 Validation loss 2.3337724208831787\n",
      "Score 0.4965585172176361 at epoch 77\n",
      "Epoch: 77 Train loss 0.043608328868481684 Validation loss 2.368422031402588\n",
      "Score 0.4965585172176361 at epoch 78\n",
      "Epoch: 78 Train loss 0.043618552807800894 Validation loss 2.378998279571533\n",
      "Score 0.4965585172176361 at epoch 79\n",
      "Epoch: 79 Train loss 0.04361473998507938 Validation loss 2.391472101211548\n",
      "Score 0.4965585172176361 at epoch 80\n",
      "Epoch: 80 Train loss 0.043625822231283355 Validation loss 2.3954813480377197\n",
      "Score 0.4965585172176361 at epoch 81\n",
      "Epoch: 81 Train loss 0.04363294719771027 Validation loss 2.386474847793579\n",
      "Score 0.4965585172176361 at epoch 82\n",
      "Epoch: 82 Train loss 0.04361497383445721 Validation loss 2.392909049987793\n",
      "Score 0.4965585172176361 at epoch 83\n",
      "Epoch: 83 Train loss 0.04361574954424209 Validation loss 2.3982346057891846\n",
      "Score 0.4965585172176361 at epoch 84\n",
      "Epoch: 84 Train loss 0.043615580425215586 Validation loss 2.403491735458374\n",
      "Score 0.4965585172176361 at epoch 85\n",
      "Epoch: 85 Train loss 0.043628980193735636 Validation loss 2.3999197483062744\n",
      "Score 0.4965585172176361 at epoch 86\n",
      "Epoch: 86 Train loss 0.043598502215354974 Validation loss 2.4119021892547607\n",
      "Score 0.4965585172176361 at epoch 87\n",
      "Epoch: 87 Train loss 0.043653665127859655 Validation loss 2.39778208732605\n",
      "Score 0.4965585172176361 at epoch 88\n",
      "Epoch: 88 Train loss 0.04359560217845645 Validation loss 2.4108264446258545\n",
      "Score 0.4965585172176361 at epoch 89\n",
      "Epoch: 89 Train loss 0.043640913893022465 Validation loss 2.406907796859741\n",
      "Score 0.4965585172176361 at epoch 90\n",
      "Epoch: 90 Train loss 0.043648364034273114 Validation loss 2.390336513519287\n",
      "Score 0.4965585172176361 at epoch 91\n",
      "Epoch: 91 Train loss 0.04362397193908692 Validation loss 2.380415439605713\n",
      "Score 0.4965585172176361 at epoch 92\n",
      "Epoch: 92 Train loss 0.0436152746402075 Validation loss 2.3866612911224365\n",
      "Score 0.4965585172176361 at epoch 93\n",
      "Epoch: 93 Train loss 0.04361523386887309 Validation loss 2.3897483348846436\n",
      "Score 0.4965585172176361 at epoch 94\n",
      "Epoch: 94 Train loss 0.0436168486714656 Validation loss 2.3944077491760254\n",
      "Score 0.4965585172176361 at epoch 95\n",
      "Epoch: 95 Train loss 0.043623250708240253 Validation loss 2.391411542892456\n",
      "Score 0.4965585172176361 at epoch 96\n",
      "Epoch: 96 Train loss 0.0436221372290384 Validation loss 2.3921353816986084\n",
      "Score 0.4965585172176361 at epoch 97\n",
      "Epoch: 97 Train loss 0.043616947729405955 Validation loss 2.3898346424102783\n",
      "Score 0.4965585172176361 at epoch 98\n",
      "Epoch: 98 Train loss 0.04360975621666311 Validation loss 2.3949921131134033\n",
      "Score 0.4965585172176361 at epoch 99\n",
      "Epoch: 99 Train loss 0.043617174549243375 Validation loss 2.4002325534820557\n",
      "Epoch: 99 Train loss 0.043617174549243375 Validation loss 2.4002325534820557\n",
      "execution time 3702.478372599988\n"
     ]
    }
   ],
   "source": [
    "train_losses, validation_losses, scores = train(modelo, model_name, criterion, optimizer, epochs, alpha, beta,\n",
    "                                                df_train, df_validation, device)"
   ]
  },
  {
   "cell_type": "code",
   "execution_count": 102,
   "metadata": {},
   "outputs": [
    {
     "data": {
      "text/plain": [
       "<matplotlib.legend.Legend at 0x17f25fa7b08>"
      ]
     },
     "execution_count": 102,
     "metadata": {},
     "output_type": "execute_result"
    },
    {
     "data": {
      "image/png": "[encoded data removed]",
      "text/plain": [
       "<Figure size 432x288 with 1 Axes>"
      ]
     },
     "metadata": {
      "needs_background": "light"
     },
     "output_type": "display_data"
    }
   ],
   "source": [
    "plt.plot(train_losses, label = 'Training loss')\n",
    "plt.plot(validation_losses, label = 'Validation loss')\n",
    "plt.plot(scores, label = 'Score')\n",
    "plt.legend(frameon = False)"
   ]
  },
  {
   "cell_type": "code",
   "execution_count": 111,
   "metadata": {},
   "outputs": [],
   "source": [
    "modelo = Perceptron(1).to(device)\n",
    "model_name = os.getcwd() + \"\\\\saved_models\\\\perceptron_adam_bce_01\"\n",
    "criterion = torch.nn.BCEWithLogitsLoss(pos_weight = weights[1]).to(device)\n",
    "optimizer = torch.optim.Adam(modelo.parameters(), lr = learning_rate)"
   ]
  },
  {
   "cell_type": "code",
   "execution_count": 112,
   "metadata": {
    "scrolled": false
   },
   "outputs": [
    {
     "name": "stdout",
     "output_type": "stream",
     "text": [
      "using device cuda\n",
      "Score 0.4965585172176361 at epoch 0\n",
      "New model saved\n",
      "Matriz de confusión:\n",
      "\t\t\tPredicciones\n",
      "Valor real\tNegativos\tPositivos\n",
      "Negativos\t1010\t\t0\n",
      "Positivos\t7\t\t0\n",
      "\n",
      "Acierto: 0.9931170344352722 Sensibilidad: 0.0 Especificidad: 1.0 Score: 0.4965585172176361\n",
      "Epoch: 0 Train loss 12.427351772829121 Validation loss 1.3458020687103271\n",
      "Score 0.4965585172176361 at epoch 1\n",
      "Epoch: 1 Train loss 1.6590126792321334 Validation loss 1.3304460048675537\n",
      "Score 0.4965585172176361 at epoch 2\n",
      "Epoch: 2 Train loss 1.3854370040228676 Validation loss 1.3338145017623901\n",
      "Score 0.4965585172176361 at epoch 3\n",
      "Epoch: 3 Train loss 1.3567467777090518 Validation loss 1.3313281536102295\n",
      "Score 0.4965585172176361 at epoch 4\n",
      "Epoch: 4 Train loss 1.3554440279850504 Validation loss 1.3303611278533936\n",
      "Score 0.4965585172176361 at epoch 5\n",
      "Epoch: 5 Train loss 2.583097660512245 Validation loss 1.3325306177139282\n",
      "Score 0.4965585172176361 at epoch 6\n",
      "Epoch: 6 Train loss 1.3789974253359238 Validation loss 1.3314458131790161\n",
      "Score 0.4965585172176361 at epoch 7\n",
      "Epoch: 7 Train loss 1.3790367301617559 Validation loss 1.3307889699935913\n",
      "Score 0.4965585172176361 at epoch 8\n",
      "Epoch: 8 Train loss 1.3790250545051819 Validation loss 1.3305660486221313\n",
      "Score 0.4965585172176361 at epoch 9\n",
      "Epoch: 9 Train loss 1.3790932506396085 Validation loss 1.3303755521774292\n",
      "Score 0.4965585172176361 at epoch 10\n",
      "Epoch: 10 Train loss 1.379171205577452 Validation loss 1.3302538394927979\n",
      "Score 0.4965585172176361 at epoch 11\n",
      "Epoch: 11 Train loss 1.3779414672962864 Validation loss 1.3298702239990234\n",
      "Score 0.4965585172176361 at epoch 12\n",
      "Epoch: 12 Train loss 1.3800029456468998 Validation loss 1.3298704624176025\n",
      "Score 0.4965585172176361 at epoch 13\n",
      "Epoch: 13 Train loss 1.3787746890024706 Validation loss 1.3298035860061646\n",
      "Score 0.4965585172176361 at epoch 14\n",
      "Epoch: 14 Train loss 1.3799332104531787 Validation loss 1.3298697471618652\n",
      "Score 0.4965585172176361 at epoch 15\n",
      "Epoch: 15 Train loss 1.3794429499482055 Validation loss 1.329826831817627\n",
      "Score 0.4965585172176361 at epoch 16\n",
      "Epoch: 16 Train loss 1.3794857103350122 Validation loss 1.3298896551132202\n",
      "Score 0.4965585172176361 at epoch 17\n",
      "Epoch: 17 Train loss 1.3799950648437846 Validation loss 1.3298251628875732\n",
      "Score 0.4965585172176361 at epoch 18\n",
      "Epoch: 18 Train loss 1.3794749718186896 Validation loss 1.3298591375350952\n",
      "Score 0.4965585172176361 at epoch 19\n",
      "Epoch: 19 Train loss 1.380137419290566 Validation loss 1.3299264907836914\n",
      "Score 0.4965585172176361 at epoch 20\n",
      "Epoch: 20 Train loss 1.3800976600488808 Validation loss 1.3299226760864258\n",
      "Score 0.4965585172176361 at epoch 21\n",
      "Epoch: 21 Train loss 1.3794776483601376 Validation loss 1.330003261566162\n",
      "Score 0.4965585172176361 at epoch 22\n",
      "Epoch: 22 Train loss 1.3786839994810136 Validation loss 1.3299453258514404\n",
      "Score 0.4965585172176361 at epoch 23\n",
      "Epoch: 23 Train loss 1.3792285775230324 Validation loss 1.3299208879470825\n",
      "Score 0.4965585172176361 at epoch 24\n",
      "Epoch: 24 Train loss 1.3787828710067478 Validation loss 1.3298522233963013\n",
      "Score 0.4965585172176361 at epoch 25\n",
      "Epoch: 25 Train loss 1.3789178657736767 Validation loss 1.3298537731170654\n",
      "Score 0.4965585172176361 at epoch 26\n",
      "Epoch: 26 Train loss 1.3795723625570901 Validation loss 1.3298825025558472\n",
      "Score 0.4965585172176361 at epoch 27\n",
      "Epoch: 27 Train loss 1.3795619571238245 Validation loss 1.3298354148864746\n",
      "Score 0.4965585172176361 at epoch 28\n",
      "Epoch: 28 Train loss 1.3792413547378792 Validation loss 1.3298434019088745\n",
      "Score 0.4965585172176361 at epoch 29\n",
      "Epoch: 29 Train loss 1.3795595173314397 Validation loss 1.3298604488372803\n",
      "Score 0.4965585172176361 at epoch 30\n",
      "Epoch: 30 Train loss 1.379770965789987 Validation loss 1.3298914432525635\n",
      "Score 0.4965585172176361 at epoch 31\n",
      "Epoch: 31 Train loss 1.378982589197979 Validation loss 1.3297858238220215\n",
      "Score 0.4965585172176361 at epoch 32\n",
      "Epoch: 32 Train loss 1.3808342047200448 Validation loss 1.3297958374023438\n",
      "Score 0.4965585172176361 at epoch 33\n",
      "Epoch: 33 Train loss 1.3786468635466527 Validation loss 1.3297274112701416\n",
      "Score 0.4965585172176361 at epoch 34\n",
      "Epoch: 34 Train loss 1.380775858597322 Validation loss 1.3297197818756104\n",
      "Score 0.4965585172176361 at epoch 35\n",
      "Epoch: 35 Train loss 1.379670933042756 Validation loss 1.3297507762908936\n",
      "Score 0.4965585172176361 at epoch 36\n",
      "Epoch: 36 Train loss 1.3805381684982805 Validation loss 1.3298043012619019\n",
      "Score 0.4965585172176361 at epoch 37\n",
      "Epoch: 37 Train loss 1.3799316808984086 Validation loss 1.3298169374465942\n",
      "Score 0.4965585172176361 at epoch 38\n",
      "Epoch: 38 Train loss 1.3792943144166792 Validation loss 1.329781174659729\n",
      "Score 0.4965585172176361 at epoch 39\n",
      "Epoch: 39 Train loss 1.3802853926393852 Validation loss 1.3298217058181763\n",
      "Score 0.4965585172176361 at epoch 40\n",
      "Epoch: 40 Train loss 1.3796090784617665 Validation loss 1.3298401832580566\n",
      "Score 0.4965585172176361 at epoch 41\n",
      "Epoch: 41 Train loss 1.379726568149993 Validation loss 1.3299068212509155\n",
      "Score 0.4965585172176361 at epoch 42\n",
      "Epoch: 42 Train loss 1.3796528012951703 Validation loss 1.3299963474273682\n",
      "Score 0.4965585172176361 at epoch 43\n",
      "Epoch: 43 Train loss 1.3799371441693504 Validation loss 1.3297886848449707\n",
      "Score 0.4965585172176361 at epoch 44\n",
      "Epoch: 44 Train loss 1.3792506649394587 Validation loss 1.329837679862976\n",
      "Score 0.4965585172176361 at epoch 45\n",
      "Epoch: 45 Train loss 1.3784572671467314 Validation loss 1.3297269344329834\n",
      "Score 0.4965585172176361 at epoch 46\n",
      "Epoch: 46 Train loss 1.3808096946603836 Validation loss 1.32973051071167\n",
      "Score 0.4965585172176361 at epoch 47\n",
      "Epoch: 47 Train loss 1.3796113401138812 Validation loss 1.3297264575958252\n",
      "Score 0.4965585172176361 at epoch 48\n",
      "Epoch: 48 Train loss 1.3791358221075165 Validation loss 1.329728364944458\n",
      "Score 0.4965585172176361 at epoch 49\n",
      "Epoch: 49 Train loss 1.3795133718987356 Validation loss 1.3297255039215088\n",
      "Score 0.4965585172176361 at epoch 50\n",
      "Epoch: 50 Train loss 1.3793510647019238 Validation loss 1.3297444581985474\n",
      "Score 0.4965585172176361 at epoch 51\n",
      "Epoch: 51 Train loss 1.3786186738887056 Validation loss 1.3297204971313477\n",
      "Score 0.4965585172176361 at epoch 52\n",
      "Epoch: 52 Train loss 1.3800344123154953 Validation loss 1.329719066619873\n",
      "Score 0.4965585172176361 at epoch 53\n",
      "Epoch: 53 Train loss 1.3796165973167747 Validation loss 1.3297358751296997\n",
      "Score 0.4965585172176361 at epoch 54\n",
      "Epoch: 54 Train loss 1.380191760815918 Validation loss 1.329789161682129\n",
      "Score 0.4965585172176361 at epoch 55\n",
      "Epoch: 55 Train loss 1.3801223127789228 Validation loss 1.3298405408859253\n",
      "Score 0.4965585172176361 at epoch 56\n",
      "Epoch: 56 Train loss 1.3790594051745366 Validation loss 1.3297711610794067\n",
      "Score 0.4965585172176361 at epoch 57\n",
      "Epoch: 57 Train loss 1.379199732419021 Validation loss 1.329789161682129\n",
      "Score 0.4965585172176361 at epoch 58\n",
      "Epoch: 58 Train loss 1.3796263199034136 Validation loss 1.3297243118286133\n",
      "Score 0.4965585172176361 at epoch 59\n",
      "Epoch: 59 Train loss 1.3799259116081406 Validation loss 1.329776406288147\n",
      "Score 0.4965585172176361 at epoch 60\n",
      "Epoch: 60 Train loss 1.379166372783061 Validation loss 1.3297946453094482\n",
      "Score 0.4965585172176361 at epoch 61\n",
      "Epoch: 61 Train loss 1.37978473800699 Validation loss 1.3298259973526\n",
      "Score 0.4965585172176361 at epoch 62\n",
      "Epoch: 62 Train loss 1.3790629916753465 Validation loss 1.3298602104187012\n",
      "Score 0.4965585172176361 at epoch 63\n",
      "Epoch: 63 Train loss 1.3795612372256614 Validation loss 1.3298556804656982\n",
      "Score 0.4965585172176361 at epoch 64\n",
      "Epoch: 64 Train loss 1.380060842962757 Validation loss 1.329787254333496\n",
      "Score 0.4965585172176361 at epoch 65\n",
      "Epoch: 65 Train loss 1.37909916993734 Validation loss 1.3298287391662598\n",
      "Score 0.4965585172176361 at epoch 66\n",
      "Epoch: 66 Train loss 1.379114933242376 Validation loss 1.3298546075820923\n",
      "Score 0.4965585172176361 at epoch 67\n",
      "Epoch: 67 Train loss 1.3797314157796434 Validation loss 1.3298131227493286\n",
      "Score 0.4965585172176361 at epoch 68\n",
      "Epoch: 68 Train loss 1.3792305922625399 Validation loss 1.3298158645629883\n",
      "Score 0.4965585172176361 at epoch 69\n",
      "Epoch: 69 Train loss 1.3799612510262895 Validation loss 1.3298609256744385\n",
      "Score 0.4965585172176361 at epoch 70\n",
      "Epoch: 70 Train loss 1.3784962220478996 Validation loss 1.3297998905181885\n",
      "Score 0.4965585172176361 at epoch 71\n",
      "Epoch: 71 Train loss 1.3794576383779324 Validation loss 1.329771637916565\n"
     ]
    },
    {
     "name": "stdout",
     "output_type": "stream",
     "text": [
      "Score 0.4965585172176361 at epoch 72\n",
      "Epoch: 72 Train loss 1.3799743896766727 Validation loss 1.3298057317733765\n",
      "Score 0.4965585172176361 at epoch 73\n",
      "Epoch: 73 Train loss 1.3795779215615855 Validation loss 1.3298588991165161\n",
      "Score 0.4965585172176361 at epoch 74\n",
      "Epoch: 74 Train loss 1.3790196097307181 Validation loss 1.329853892326355\n",
      "Score 0.4965585172176361 at epoch 75\n",
      "Epoch: 75 Train loss 1.3793983694083567 Validation loss 1.3298453092575073\n",
      "Score 0.4965585172176361 at epoch 76\n",
      "Epoch: 76 Train loss 1.3794790460085107 Validation loss 1.3297908306121826\n",
      "Score 0.4965585172176361 at epoch 77\n",
      "Epoch: 77 Train loss 1.379486973997416 Validation loss 1.3298192024230957\n",
      "Score 0.4965585172176361 at epoch 78\n",
      "Epoch: 78 Train loss 1.3779354213643134 Validation loss 1.3297224044799805\n",
      "Score 0.4965585172176361 at epoch 79\n",
      "Epoch: 79 Train loss 1.3832830278674273 Validation loss 1.3297288417816162\n",
      "Score 0.4965585172176361 at epoch 80\n",
      "Epoch: 80 Train loss 1.380262571514678 Validation loss 1.3297195434570312\n",
      "Score 0.4965585172176361 at epoch 81\n",
      "Epoch: 81 Train loss 1.3796257960708487 Validation loss 1.329728126525879\n",
      "Score 0.4965585172176361 at epoch 82\n",
      "Epoch: 82 Train loss 1.380787651632576 Validation loss 1.329750895500183\n",
      "Score 0.4965585172176361 at epoch 83\n",
      "Epoch: 83 Train loss 1.3791859339730452 Validation loss 1.3297549486160278\n",
      "Score 0.4965585172176361 at epoch 84\n",
      "Epoch: 84 Train loss 1.3781408421969823 Validation loss 1.3297228813171387\n",
      "Score 0.4965585172176361 at epoch 85\n",
      "Epoch: 85 Train loss 1.3811501081657644 Validation loss 1.329721212387085\n",
      "Score 0.4965585172176361 at epoch 86\n",
      "Epoch: 86 Train loss 1.3796960890732468 Validation loss 1.3297252655029297\n",
      "Score 0.4965585172176361 at epoch 87\n",
      "Epoch: 87 Train loss 1.3801546970368603 Validation loss 1.3297594785690308\n",
      "Score 0.4965585172176361 at epoch 88\n",
      "Epoch: 88 Train loss 1.3791007782522524 Validation loss 1.329733967781067\n",
      "Score 0.4965585172176361 at epoch 89\n",
      "Epoch: 89 Train loss 1.379667641943737 Validation loss 1.3297418355941772\n",
      "Score 0.4965585172176361 at epoch 90\n",
      "Epoch: 90 Train loss 1.3798904721654897 Validation loss 1.3297840356826782\n",
      "Score 0.4965585172176361 at epoch 91\n",
      "Epoch: 91 Train loss 1.3800914967675173 Validation loss 1.3298282623291016\n",
      "Score 0.4965585172176361 at epoch 92\n",
      "Epoch: 92 Train loss 1.379106455338382 Validation loss 1.329749345779419\n",
      "Score 0.4965585172176361 at epoch 93\n",
      "Epoch: 93 Train loss 1.380139588870346 Validation loss 1.329803228378296\n",
      "Score 0.4965585172176361 at epoch 94\n",
      "Epoch: 94 Train loss 1.3799116685290886 Validation loss 1.3298457860946655\n",
      "Score 0.4965585172176361 at epoch 95\n",
      "Epoch: 95 Train loss 1.3795313755475918 Validation loss 1.3298320770263672\n",
      "Score 0.4965585172176361 at epoch 96\n",
      "Epoch: 96 Train loss 1.3805446753777215 Validation loss 1.329779028892517\n",
      "Score 0.4965585172176361 at epoch 97\n",
      "Epoch: 97 Train loss 1.3794267114462373 Validation loss 1.3298417329788208\n",
      "Score 0.4965585172176361 at epoch 98\n",
      "Epoch: 98 Train loss 1.379329954904186 Validation loss 1.329980492591858\n",
      "Score 0.4965585172176361 at epoch 99\n",
      "Epoch: 99 Train loss 1.379058286247441 Validation loss 1.3299764394760132\n",
      "Epoch: 99 Train loss 1.379058286247441 Validation loss 1.3299764394760132\n",
      "execution time 6086.776789199997\n"
     ]
    }
   ],
   "source": [
    "train_losses, validation_losses, scores = train_bce(modelo, model_name, criterion, optimizer, epochs, alpha, beta,\n",
    "                                                df_train, df_validation, device)"
   ]
  },
  {
   "cell_type": "code",
   "execution_count": 113,
   "metadata": {},
   "outputs": [
    {
     "data": {
      "text/plain": [
       "<matplotlib.legend.Legend at 0x17f256a1c08>"
      ]
     },
     "execution_count": 113,
     "metadata": {},
     "output_type": "execute_result"
    },
    {
     "data": {
      "image/png": "[encoded data removed]",
      "text/plain": [
       "<Figure size 432x288 with 1 Axes>"
      ]
     },
     "metadata": {
      "needs_background": "light"
     },
     "output_type": "display_data"
    }
   ],
   "source": [
    "plt.plot(train_losses, label = 'Training loss')\n",
    "plt.plot(validation_losses, label = 'Validation loss')\n",
    "plt.plot(scores, label = 'Score')\n",
    "plt.legend(frameon = False)"
   ]
  }
 ],
 "metadata": {
  "kernelspec": {
   "display_name": "Python 3",
   "language": "python",
   "name": "python3"
  },
  "language_info": {
   "codemirror_mode": {
    "name": "ipython",
    "version": 3
   },
   "file_extension": ".py",
   "mimetype": "text/x-python",
   "name": "python",
   "nbconvert_exporter": "python",
   "pygments_lexer": "ipython3",
   "version": "3.7.6"
  }
 },
 "nbformat": 4,
 "nbformat_minor": 4
}
