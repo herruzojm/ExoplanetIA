{
 "cells": [
  {
   "cell_type": "code",
   "execution_count": 1,
   "metadata": {},
   "outputs": [],
   "source": [
    "%load_ext autoreload\n",
    "%autoreload 2\n",
    "\n",
    "import os\n",
    "import pandas as pd\n",
    "import torch\n",
    "\n",
    "from utils import *\n",
    "from prototipos.modelo_perceptron import *"
   ]
  },
  {
   "cell_type": "code",
   "execution_count": 4,
   "metadata": {},
   "outputs": [],
   "source": [
    "PATH = \"./datos/\"\n",
    "TEST_FILE = \"exoTest.csv\"\n",
    "df_test = pd.read_csv(f'{PATH}{TEST_FILE}', low_memory=False)\n",
    "df_test['LABEL'] = df_test['LABEL'].add(-1)"
   ]
  },
  {
   "cell_type": "markdown",
   "metadata": {},
   "source": [
    "Modelo con dataset reducido y balanceado"
   ]
  },
  {
   "cell_type": "code",
   "execution_count": 6,
   "metadata": {},
   "outputs": [
    {
     "name": "stdout",
     "output_type": "stream",
     "text": [
      "Matriz de confusión:\n",
      "\t\t\tPredicciones\n",
      "Valor real\tNegativos\tPositivos\n",
      "Negativos\t549\t\t16\n",
      "Positivos\t4\t\t1\n",
      "\n",
      "Acierto: 0.9649122953414917 Sensibilidad: 0.20000000298023224 Especificidad: 0.9716814160346985 Score: 0.5652849078178406\n"
     ]
    }
   ],
   "source": [
    "model_name = os.getcwd() + \"\\\\prototipos\\\\saved_models\\\\perceptron_adam_cross_02\"\n",
    "modelo = Perceptron()\n",
    "test_model(modelo, model_name, df_test)"
   ]
  },
  {
   "cell_type": "code",
   "execution_count": null,
   "metadata": {},
   "outputs": [],
   "source": []
  }
 ],
 "metadata": {
  "kernelspec": {
   "display_name": "Python 3",
   "language": "python",
   "name": "python3"
  },
  "language_info": {
   "codemirror_mode": {
    "name": "ipython",
    "version": 3
   },
   "file_extension": ".py",
   "mimetype": "text/x-python",
   "name": "python",
   "nbconvert_exporter": "python",
   "pygments_lexer": "ipython3",
   "version": "3.7.6"
  }
 },
 "nbformat": 4,
 "nbformat_minor": 4
}
